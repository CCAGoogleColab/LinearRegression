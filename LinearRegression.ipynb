import pandas as pd
import numpy as np
import matplotlib.pyplot as plt
from sklearn.linear_model import LinearRegression
from sklearn.model_selection import train_test_split 
# Code to read csv file into Colaboratory:
!pip install -U -q PyDrive
from pydrive.auth import GoogleAuth
from pydrive.drive import GoogleDrive
from google.colab import auth
from oauth2client.client import GoogleCredentials
# Authenticate and create the PyDrive client.
auth.authenticate_user()
gauth = GoogleAuth()
gauth.credentials = GoogleCredentials.get_application_default()
drive = GoogleDrive(gauth)
link = 'https://drive.google.com/open?id=1z3c7mVRAr-h0tdxlMp1EYxG5pU74Aybb' # The shareable link
fluff, id = link.split('=')
# Verify that you have everything after '='
downloaded = drive.CreateFile({'id':id}) 
downloaded.GetContentFile('insurance1.csv')  
df3 = pd.read_csv('insurance1.csv')
# Dataset is now stored in a Pandas Dataframe
df3
# generate data-set
x = df3.iloc[:, :-1].values
y = df3.iloc[:, 1].values


X_train, X_test, y_train, y_test = train_test_split(x, y, test_size=1/3, random_state=0)
# plot
def scatter():
  plt.scatter(X_test,y_test,s=1)
  plt.xlabel('BMI')
  plt.ylabel('Financial Insurance Charge')
  plt.title('Financial Insurance Charge with BMI')
regression_model = LinearRegression()
regression_model.fit(X_train, y_train)
y_predicted = regression_model.predict(X_train)
scatter()
plt.plot(X_train, y_predicted, color='r')
plt.show()

prediction = float(input("Enter your BMI: "))
userpredict = regression_model.predict([[prediction]])
print(userpredict)
